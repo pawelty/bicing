{
 "cells": [
  {
   "cell_type": "markdown",
   "metadata": {},
   "source": [
    "# Weekday vs Weekend Analysis "
   ]
  },
  {
   "cell_type": "code",
   "execution_count": 3,
   "metadata": {
    "collapsed": true,
    "scrolled": true
   },
   "outputs": [],
   "source": [
    "import warnings\n",
    "warnings.filterwarnings('ignore')\n",
    "\n",
    "import pandas as pd\n",
    "from glob import glob\n",
    "import json\n",
    "import requests\n",
    "\n",
    "import matplotlib.pyplot as plt\n",
    "%matplotlib inline\n",
    "\n",
    "import plotly.plotly as py\n",
    "import plotly.graph_objs as go\n",
    "import plotly"
   ]
  },
  {
   "cell_type": "code",
   "execution_count": 4,
   "metadata": {
    "scrolled": true
   },
   "outputs": [],
   "source": [
    "full_df = pd.read_hdf(\"bicing_full.h5\", key=\"table\")\n",
    "full_df[\"bikes\"] = full_df[\"bikes\"].astype(int)\n",
    "full_df[\"slots\"] = full_df[\"slots\"].astype(int)"
   ]
  },
  {
   "cell_type": "markdown",
   "metadata": {},
   "source": [
    "Quick preview of the data"
   ]
  },
  {
   "cell_type": "code",
   "execution_count": 5,
   "metadata": {
    "scrolled": true
   },
   "outputs": [
    {
     "data": {
      "text/html": [
       "<div>\n",
       "<style>\n",
       "    .dataframe thead tr:only-child th {\n",
       "        text-align: right;\n",
       "    }\n",
       "\n",
       "    .dataframe thead th {\n",
       "        text-align: left;\n",
       "    }\n",
       "\n",
       "    .dataframe tbody tr th {\n",
       "        vertical-align: top;\n",
       "    }\n",
       "</style>\n",
       "<table border=\"1\" class=\"dataframe\">\n",
       "  <thead>\n",
       "    <tr style=\"text-align: right;\">\n",
       "      <th></th>\n",
       "      <th>id</th>\n",
       "      <th>status</th>\n",
       "      <th>bikes</th>\n",
       "      <th>slots</th>\n",
       "      <th>zip</th>\n",
       "      <th>timestamp</th>\n",
       "    </tr>\n",
       "  </thead>\n",
       "  <tbody>\n",
       "    <tr>\n",
       "      <th>0</th>\n",
       "      <td>1</td>\n",
       "      <td>'OPN'</td>\n",
       "      <td>5</td>\n",
       "      <td>19</td>\n",
       "      <td>8013</td>\n",
       "      <td>2015-11-22 23:40:00</td>\n",
       "    </tr>\n",
       "    <tr>\n",
       "      <th>1</th>\n",
       "      <td>2</td>\n",
       "      <td>'OPN'</td>\n",
       "      <td>8</td>\n",
       "      <td>19</td>\n",
       "      <td>8010</td>\n",
       "      <td>2015-11-22 23:40:00</td>\n",
       "    </tr>\n",
       "    <tr>\n",
       "      <th>2</th>\n",
       "      <td>3</td>\n",
       "      <td>'OPN'</td>\n",
       "      <td>11</td>\n",
       "      <td>16</td>\n",
       "      <td>8013</td>\n",
       "      <td>2015-11-22 23:40:00</td>\n",
       "    </tr>\n",
       "    <tr>\n",
       "      <th>3</th>\n",
       "      <td>4</td>\n",
       "      <td>'OPN'</td>\n",
       "      <td>5</td>\n",
       "      <td>16</td>\n",
       "      <td>8013</td>\n",
       "      <td>2015-11-22 23:40:00</td>\n",
       "    </tr>\n",
       "    <tr>\n",
       "      <th>4</th>\n",
       "      <td>5</td>\n",
       "      <td>'OPN'</td>\n",
       "      <td>21</td>\n",
       "      <td>18</td>\n",
       "      <td>8003</td>\n",
       "      <td>2015-11-22 23:40:00</td>\n",
       "    </tr>\n",
       "  </tbody>\n",
       "</table>\n",
       "</div>"
      ],
      "text/plain": [
       "  id status  bikes  slots   zip           timestamp\n",
       "0  1  'OPN'      5     19  8013 2015-11-22 23:40:00\n",
       "1  2  'OPN'      8     19  8010 2015-11-22 23:40:00\n",
       "2  3  'OPN'     11     16  8013 2015-11-22 23:40:00\n",
       "3  4  'OPN'      5     16  8013 2015-11-22 23:40:00\n",
       "4  5  'OPN'     21     18  8003 2015-11-22 23:40:00"
      ]
     },
     "execution_count": 5,
     "metadata": {},
     "output_type": "execute_result"
    }
   ],
   "source": [
    "full_df.head(5)"
   ]
  },
  {
   "cell_type": "markdown",
   "metadata": {},
   "source": [
    "## 1. Bikes by districts (on weekday)\n",
    "\n",
    "I am going to assign districts to each station id and compute average number of bikes in each district at certain hours on weekdays.\n",
    "\n",
    "I will use https://www.bicing.cat/availability_map/getJsonObject to assign districts for ids."
   ]
  },
  {
   "cell_type": "code",
   "execution_count": 6,
   "metadata": {
    "collapsed": true,
    "scrolled": true
   },
   "outputs": [],
   "source": [
    "url = \"https://www.bicing.cat/availability_map/getJsonObject\"\n",
    "r = requests.get(url).text\n",
    "file = json.loads(r)\n",
    "\n",
    "id_district_table = {}\n",
    "for station in file:\n",
    "    station_id = int(station[\"id\"])\n",
    "    district = station[\"district\"]\n",
    "    id_district_table[station_id] = district\n",
    "\n",
    "#assign district to each id\n",
    "full_df[\"district\"] = full_df[\"id\"].map(id_district_table)\n",
    "\n",
    "#convert district codes into district names\n",
    "district_names = {\"1\":\"Ciutat Vella\",\n",
    "                \"2\":\"Eixample\",\n",
    "                \"3\":\"Sants-Montjuïc\",\n",
    "                \"4\":\"Les Corts\",\n",
    "                \"5\":\"Sarrià - Sant Gervasi\",\n",
    "                \"6\":\"Gràcia\",\n",
    "                \"7\":\"Horta-Guinardó\",\n",
    "                \"8\":\"Nou Barris\",\n",
    "                \"9\":\"Sant Andreu\",\n",
    "                \"10\":\"Sant Martí\"}\n",
    "\n",
    "full_df[\"district\"] = full_df[\"district\"].map(district_names)\n",
    "\n",
    "#subset the database to get weekdays only (excluding Saturdays and Sundays)\n",
    "mask_weekdays = (full_df.timestamp.dt.dayofweek != 5) & (full_df.timestamp.dt.dayofweek != 6)\n",
    "full_df_weekdays = full_df[mask_weekdays]\n",
    "full_df_weekdays = full_df_weekdays.set_index(\"timestamp\")"
   ]
  },
  {
   "cell_type": "code",
   "execution_count": 32,
   "metadata": {
    "scrolled": false
   },
   "outputs": [
    {
     "data": {
      "text/html": [
       "<iframe id=\"igraph\" scrolling=\"no\" style=\"border:none;\" seamless=\"seamless\" src=\"https://plot.ly/~pawelty/68.embed\" height=\"525px\" width=\"100%\"></iframe>"
      ],
      "text/plain": [
       "<plotly.tools.PlotlyDisplay object>"
      ]
     },
     "execution_count": 32,
     "metadata": {},
     "output_type": "execute_result"
    }
   ],
   "source": [
    "data_weekday = []\n",
    "\n",
    "for key, value in district_names.items():\n",
    "    district_df = full_df_weekdays[full_df_weekdays[\"district\"] == value]\n",
    "    district_means = district_df.groupby(district_df.index.hour).bikes.mean()\n",
    "    data_district = go.Scatter(x=district_means.index, y=district_means.values, name=value)\n",
    "    data_weekday.append(data_district)\n",
    "\n",
    "layout = go.Layout()\n",
    "py.iplot(data_weekday, layout=layout)"
   ]
  },
  {
   "cell_type": "markdown",
   "metadata": {},
   "source": [
    "## Summary:\n",
    "* It's easy to see that Bicing service opens at 5 AM\n",
    "* Sant Marti, Gracia, Eixample, Les Corts, Sant Andreu, Sants-Montjuic and Sarrià - Sant Gervasi are the districts where people take bikes in the morning and move to other \"barrios\". Sarrià - Sant Gervasi is an extreme example where the average number of bikes descreases from 16 at 5AM to less than 4 at 10 AM.\n",
    "* Ciutat Vella, Nou Barris and Horta-Guinardó are the districts where most people park their bikes in teh morning.\n",
    "* The number of bikes in Gracia and Horta-Guinardó decrease during the day. My guess would be that people use Bicing to go downhill in the morning but not necesarily to go back. "
   ]
  },
  {
   "cell_type": "markdown",
   "metadata": {
    "collapsed": true,
    "scrolled": true
   },
   "source": [
    "## 2. Bikes by district on weekends"
   ]
  },
  {
   "cell_type": "code",
   "execution_count": 29,
   "metadata": {},
   "outputs": [
    {
     "data": {
      "text/html": [
       "<iframe id=\"igraph\" scrolling=\"no\" style=\"border:none;\" seamless=\"seamless\" src=\"https://plot.ly/~pawelty/62.embed\" height=\"525px\" width=\"100%\"></iframe>"
      ],
      "text/plain": [
       "<plotly.tools.PlotlyDisplay object>"
      ]
     },
     "execution_count": 29,
     "metadata": {},
     "output_type": "execute_result"
    }
   ],
   "source": [
    "mask_weekends = (full_df.timestamp.dt.dayofweek == 5) | (full_df.timestamp.dt.dayofweek == 6)\n",
    "full_df_weekends = full_df[mask_weekends]\n",
    "\n",
    "full_df_weekends[\"bikes\"] = full_df_weekends[\"bikes\"].astype(int)\n",
    "full_df_weekends = full_df_weekends.set_index(\"timestamp\")\n",
    "\n",
    "\n",
    "data_weekend = []\n",
    "\n",
    "for key, value in district_names.items():\n",
    "    district_df = full_df_weekends[full_df_weekends[\"district\"] == value]\n",
    "    district_means = district_df.groupby(district_df.index.hour).bikes.mean()\n",
    "    data_district = go.Scatter(x=district_means.index, y=district_means.values, name=value)\n",
    "    data_weekend.append(data_district)\n",
    "\n",
    "layout = go.Layout(title=\"Average number of bikes per hour on weekends\")\n",
    "py.iplot(data_weekend, layout=layout)"
   ]
  },
  {
   "cell_type": "markdown",
   "metadata": {},
   "source": [
    "## Summary:\n",
    "* Users from Sarrià - Sant Gervasi, Sants-Montjuïc, Les Corts, Eixample and Sant Marti don't like spending weekends in their districts :)\n",
    "* People usually travel to Ciutat Vella on weekends"
   ]
  },
  {
   "cell_type": "markdown",
   "metadata": {
    "collapsed": true
   },
   "source": [
    "## 3. House - work on weekday\n",
    "\n",
    "I have noticed that there are very few bikes after 9 AM at the station next to my house. At the same time the stations in Poblenou, where I work, are almost full. I should probably wake up earlier..."
   ]
  },
  {
   "cell_type": "code",
   "execution_count": 25,
   "metadata": {},
   "outputs": [
    {
     "data": {
      "text/html": [
       "<iframe id=\"igraph\" scrolling=\"no\" style=\"border:none;\" seamless=\"seamless\" src=\"https://plot.ly/~pawelty/56.embed\" height=\"525px\" width=\"100%\"></iframe>"
      ],
      "text/plain": [
       "<plotly.tools.PlotlyDisplay object>"
      ]
     },
     "execution_count": 25,
     "metadata": {},
     "output_type": "execute_result"
    }
   ],
   "source": [
    "#create plot for my house\n",
    "my_district = full_df_weekdays[full_df_weekdays[\"id\"] == 241]\n",
    "\n",
    "bikes = my_district.groupby(my_district.index.hour).bikes.mean()\n",
    "slots = my_district.groupby(my_district.index.hour).slots.mean()\n",
    "\n",
    "trace1 = go.Bar(x=bikes.index, y=bikes.values, name=\"bikes\")\n",
    "trace2 = go.Bar(x=slots.index, y=slots.values, name=\"slots\")\n",
    "\n",
    "data = [trace1, trace2]\n",
    "layout = go.Layout(barmode='stack',title=\"Bikes at station 241 (Pl. Maragall, 22)\", \n",
    "        xaxis=dict(\n",
    "        title='Hour',\n",
    "        titlefont=dict(\n",
    "            family='Courier New, monospace',\n",
    "            size=18,\n",
    "            color='#7f7f7f'\n",
    "        )\n",
    "    ),\n",
    "    yaxis=dict(\n",
    "        title='Bikes availability',\n",
    "        titlefont=dict(\n",
    "            family='Courier New, monospace',\n",
    "            size=18,\n",
    "            color='#7f7f7f'\n",
    "        )\n",
    "    ) )\n",
    "\n",
    "                    \n",
    "\n",
    "fig = go.Figure(data=data, layout=layout)\n",
    "py.iplot(fig, filename='stacked-bar')\n",
    "\n"
   ]
  },
  {
   "cell_type": "code",
   "execution_count": 24,
   "metadata": {},
   "outputs": [
    {
     "data": {
      "text/html": [
       "<iframe id=\"igraph\" scrolling=\"no\" style=\"border:none;\" seamless=\"seamless\" src=\"https://plot.ly/~pawelty/56.embed\" height=\"525px\" width=\"100%\"></iframe>"
      ],
      "text/plain": [
       "<plotly.tools.PlotlyDisplay object>"
      ]
     },
     "execution_count": 24,
     "metadata": {},
     "output_type": "execute_result"
    }
   ],
   "source": [
    "#create plot for station next my work\n",
    "my_work = full_df_weekdays[full_df_weekdays[\"id\"] == 150]\n",
    "\n",
    "bikes = my_work.groupby(my_work.index.hour).bikes.mean()\n",
    "slots = my_work.groupby(my_work.index.hour).slots.mean()\n",
    "\n",
    "trace1 = go.Bar(x=bikes.index, y=bikes.values, name=\"bikes\", marker=dict(color='rgb(26, 118, 255)'))\n",
    "trace2 = go.Bar(x=slots.index, y=slots.values, name=\"slots\", marker=dict(color='rgb(55, 83, 109)'))\n",
    "\n",
    "data = [trace1, trace2]\n",
    "layout = go.Layout(barmode='stack', title=\"Bikes at station 150 (Espronceda, 124)\",\n",
    "        xaxis=dict(\n",
    "        title='Hour',\n",
    "        titlefont=dict(\n",
    "            family='Courier New, monospace',\n",
    "            size=18,\n",
    "            color='#7f7f7f'\n",
    "        )\n",
    "    ),\n",
    "    yaxis=dict(\n",
    "        title='Bikes availability',\n",
    "        titlefont=dict(\n",
    "            family='Courier New, monospace',\n",
    "            size=18,\n",
    "            color='#7f7f7f'\n",
    "        )\n",
    "    ) )\n",
    "\n",
    "fig = go.Figure(data=data, layout=layout)\n",
    "py.iplot(fig, filename='stacked-bar')"
   ]
  },
  {
   "cell_type": "code",
   "execution_count": null,
   "metadata": {},
   "outputs": [],
   "source": []
  },
  {
   "cell_type": "code",
   "execution_count": null,
   "metadata": {
    "collapsed": true
   },
   "outputs": [],
   "source": []
  }
 ],
 "metadata": {
  "anaconda-cloud": {},
  "kernelspec": {
   "display_name": "Python [conda root]",
   "language": "python",
   "name": "conda-root-py"
  },
  "language_info": {
   "codemirror_mode": {
    "name": "ipython",
    "version": 3
   },
   "file_extension": ".py",
   "mimetype": "text/x-python",
   "name": "python",
   "nbconvert_exporter": "python",
   "pygments_lexer": "ipython3",
   "version": "3.5.3"
  }
 },
 "nbformat": 4,
 "nbformat_minor": 2
}
