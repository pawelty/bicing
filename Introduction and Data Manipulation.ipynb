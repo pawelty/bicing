{
 "cells": [
  {
   "cell_type": "markdown",
   "metadata": {},
   "source": [
    "# Bicing project\n",
    "\n",
    "If you live in Barcelona you probably know that Bicing is a system of public bikes. Users can take a bike from numerous stations and use it for 30 mins without paying. The only cost is the annual fee of around 50 euros. That's basically what I spent on transport in Barcelona every year. Bicing is definitely one of the best things that Barcelona can offer their inhabitants. \n",
    "\n",
    "Since I am very frequent user of Bicing I started noticing patterns that would occur in certain locations at certain times. \n",
    "* It's hard to find a bike next to my house (La Sagrera) after 9.30 AM on weekdays but at the same time it's difficult to park it in Poblenou where I work. \n",
    "* All the stations close to the beach are full on weekends (specially on sunny days!)\n",
    "* It's easier to find a bike on a rainy and cold day\n",
    "* There are significantly more bikes in August.\n",
    "\n",
    "There are many of those. That's why I decided to prove it with data.\n",
    "\n",
    "I was collecting data from Bicing website between 22-Nov-2015 and 24-Dec-2016. A scraper running on PythonAnywhere would connect to the website, parse the json file and record the data in MySQL database.\n",
    "\n",
    "There are a couple of weak points of my analysis:\n",
    "* it ignores refills, when Bicing employees put bikes in certain stations\n",
    "* PythonAnywhere was not always stable so there are few holes in the database\n"
   ]
  },
  {
   "cell_type": "code",
   "execution_count": 4,
   "metadata": {
    "collapsed": true
   },
   "outputs": [],
   "source": [
    "import pandas as pd\n",
    "from glob import glob\n",
    "import warnings\n",
    "warnings.filterwarnings('ignore')\n",
    "\n",
    "import matplotlib.pyplot as plt\n",
    "%matplotlib inline\n"
   ]
  },
  {
   "cell_type": "markdown",
   "metadata": {},
   "source": [
    "### PLAN:\n",
    "\n",
    "* Create empty dataframe\n",
    "* Read each file\n",
    "* Manipulate files\n",
    "* Append to the newly created dataframe\n",
    "* Dump to HDF5"
   ]
  },
  {
   "cell_type": "code",
   "execution_count": 2,
   "metadata": {
    "collapsed": true
   },
   "outputs": [],
   "source": [
    "df = pd.DataFrame(columns=[\"id\", \"status\", \"bikes\", \"slots\", \"zip\", \"timestamp\"])"
   ]
  },
  {
   "cell_type": "code",
   "execution_count": null,
   "metadata": {
    "collapsed": true
   },
   "outputs": [],
   "source": [
    "for file in glob(pathname=r\"*.csv\"):\n",
    "    partial_df = pd.read_csv(file)\n",
    "    partial_df = partial_df.drop_duplicates()\n",
    "    partial_df[\"timestamp\"] = partial_df[\"timeDay\"].str.cat(partial_df[\"timeHour\"], sep =\" \")\n",
    "    partial_df[\"timestamp\"] = partial_df[\"timestamp\"].str.replace(\"0 days \", \"\")\n",
    "    partial_df[\"timestamp\"] = pd.to_datetime(partial_df[\"timestamp\"], format=\"%Y-%m-%d %H:%M\")\n",
    "    partial_df = partial_df.drop([\"Unnamed: 0\", \"address\", \"addressNumber\", \"timeHour\", \"timeDay\"], axis=1)\n",
    "    df  = df.append(partial_df)\n",
    "    \n",
    "df.to_hdf(\"bicing_full.h5\", key=\"table\")\n",
    "df.to_csv(\"bicing_full.csv\")"
   ]
  },
  {
   "cell_type": "code",
   "execution_count": 6,
   "metadata": {},
   "outputs": [],
   "source": [
    "#%timeit df = pd.read_csv(\"bicing_full.csv\")\n",
    "df = pd.read_hdf(\"bicing_full.h5\", key=\"table\")"
   ]
  },
  {
   "cell_type": "markdown",
   "metadata": {
    "collapsed": true
   },
   "source": [
    "HDF5 generated huge savings in terms of space on disk and read time. In my opinion CSV is just not suitable for bigger amount of data.\n",
    "\n",
    "##### Size on disk \n",
    "\n",
    "* csv: 1142 MB\n",
    "* hdf5: 695 MB (40% less)\n",
    "\n",
    "##### read time:\n",
    "* csv: 25.3s\n",
    "* hdf5: 13.1s (48% less)"
   ]
  },
  {
   "cell_type": "code",
   "execution_count": 7,
   "metadata": {},
   "outputs": [
    {
     "data": {
      "text/html": [
       "<div>\n",
       "<style>\n",
       "    .dataframe thead tr:only-child th {\n",
       "        text-align: right;\n",
       "    }\n",
       "\n",
       "    .dataframe thead th {\n",
       "        text-align: left;\n",
       "    }\n",
       "\n",
       "    .dataframe tbody tr th {\n",
       "        vertical-align: top;\n",
       "    }\n",
       "</style>\n",
       "<table border=\"1\" class=\"dataframe\">\n",
       "  <thead>\n",
       "    <tr style=\"text-align: right;\">\n",
       "      <th></th>\n",
       "      <th>id</th>\n",
       "      <th>status</th>\n",
       "      <th>bikes</th>\n",
       "      <th>slots</th>\n",
       "      <th>zip</th>\n",
       "      <th>timestamp</th>\n",
       "    </tr>\n",
       "  </thead>\n",
       "  <tbody>\n",
       "    <tr>\n",
       "      <th>count</th>\n",
       "      <td>24106065.0</td>\n",
       "      <td>24106065</td>\n",
       "      <td>24106065.0</td>\n",
       "      <td>24106065.0</td>\n",
       "      <td>24106065.0</td>\n",
       "      <td>24106065</td>\n",
       "    </tr>\n",
       "    <tr>\n",
       "      <th>unique</th>\n",
       "      <td>465.0</td>\n",
       "      <td>2</td>\n",
       "      <td>43.0</td>\n",
       "      <td>40.0</td>\n",
       "      <td>41.0</td>\n",
       "      <td>51719</td>\n",
       "    </tr>\n",
       "    <tr>\n",
       "      <th>top</th>\n",
       "      <td>496.0</td>\n",
       "      <td>'OPN'</td>\n",
       "      <td>0.0</td>\n",
       "      <td>0.0</td>\n",
       "      <td>8005.0</td>\n",
       "      <td>2015-11-23 07:40:00</td>\n",
       "    </tr>\n",
       "    <tr>\n",
       "      <th>freq</th>\n",
       "      <td>51841.0</td>\n",
       "      <td>23833410</td>\n",
       "      <td>3374549.0</td>\n",
       "      <td>1207513.0</td>\n",
       "      <td>2177322.0</td>\n",
       "      <td>930</td>\n",
       "    </tr>\n",
       "    <tr>\n",
       "      <th>first</th>\n",
       "      <td>NaN</td>\n",
       "      <td>NaN</td>\n",
       "      <td>NaN</td>\n",
       "      <td>NaN</td>\n",
       "      <td>NaN</td>\n",
       "      <td>2015-11-22 23:40:00</td>\n",
       "    </tr>\n",
       "    <tr>\n",
       "      <th>last</th>\n",
       "      <td>NaN</td>\n",
       "      <td>NaN</td>\n",
       "      <td>NaN</td>\n",
       "      <td>NaN</td>\n",
       "      <td>NaN</td>\n",
       "      <td>2016-12-24 13:30:00</td>\n",
       "    </tr>\n",
       "  </tbody>\n",
       "</table>\n",
       "</div>"
      ],
      "text/plain": [
       "                id    status       bikes       slots         zip  \\\n",
       "count   24106065.0  24106065  24106065.0  24106065.0  24106065.0   \n",
       "unique       465.0         2        43.0        40.0        41.0   \n",
       "top          496.0     'OPN'         0.0         0.0      8005.0   \n",
       "freq       51841.0  23833410   3374549.0   1207513.0   2177322.0   \n",
       "first          NaN       NaN         NaN         NaN         NaN   \n",
       "last           NaN       NaN         NaN         NaN         NaN   \n",
       "\n",
       "                  timestamp  \n",
       "count              24106065  \n",
       "unique                51719  \n",
       "top     2015-11-23 07:40:00  \n",
       "freq                    930  \n",
       "first   2015-11-22 23:40:00  \n",
       "last    2016-12-24 13:30:00  "
      ]
     },
     "execution_count": 7,
     "metadata": {},
     "output_type": "execute_result"
    }
   ],
   "source": [
    "df.describe()\n"
   ]
  },
  {
   "cell_type": "code",
   "execution_count": null,
   "metadata": {
    "collapsed": true
   },
   "outputs": [],
   "source": []
  }
 ],
 "metadata": {
  "anaconda-cloud": {},
  "kernelspec": {
   "display_name": "Python [conda root]",
   "language": "python",
   "name": "conda-root-py"
  },
  "language_info": {
   "codemirror_mode": {
    "name": "ipython",
    "version": 3
   },
   "file_extension": ".py",
   "mimetype": "text/x-python",
   "name": "python",
   "nbconvert_exporter": "python",
   "pygments_lexer": "ipython3",
   "version": "3.5.3"
  }
 },
 "nbformat": 4,
 "nbformat_minor": 2
}
